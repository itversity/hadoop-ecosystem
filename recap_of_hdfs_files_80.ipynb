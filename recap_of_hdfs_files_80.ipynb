{
 "cells": [
  {
   "cell_type": "markdown",
   "metadata": {},
   "source": [
    "## Recap of HDFS Files\n",
    "\n",
    "Let us understand how every thing connects together. We need to ensure details about files, file metadata and the relationship with HDFS components.\n",
    "* Every file will have metadata associated with it. Here is the metadata for files stored in Linux File System.\n",
    "  * File Name\n",
    "  * File Size\n",
    "  * Its parent folder or directory\n",
    "  * Ownership\n",
    "  * Permissions"
   ]
  },
  {
   "cell_type": "code",
   "execution_count": null,
   "metadata": {},
   "outputs": [],
   "source": []
  }
 ],
 "metadata": {
  "kernelspec": {
   "display_name": "Python 3",
   "language": "python",
   "name": "python3"
  },
  "language_info": {
   "codemirror_mode": {
    "name": "ipython",
    "version": 3
   },
   "file_extension": ".py",
   "mimetype": "text/x-python",
   "name": "python",
   "nbconvert_exporter": "python",
   "pygments_lexer": "ipython3",
   "version": "3.7.9"
  }
 },
 "nbformat": 4,
 "nbformat_minor": 4
}

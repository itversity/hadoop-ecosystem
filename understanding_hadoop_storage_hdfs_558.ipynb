{
 "cells": [
  {
   "cell_type": "markdown",
   "metadata": {},
   "source": [
    "## Understanding Hadoop Storage (HDFS)\n",
    "\n",
    "Let us get an overview about Hadoop Distributed File System (HDFS).\n",
    "* HDFS stands for Hadoop Distributed File System.\n",
    "  * Distributed\n",
    "  * Fault-Tolerant\n",
    "  * Highly Reliable\n",
    "* On a regular local file system such as your PC, a file will occupy contiguous blocks of storage. However, in the network file system, blocks of a file need not be contiguous. They might spread across multiple Hard Drives that are part of Storage Server.\n",
    "* Let us first copy data set and understand what is going on under the hood.\n",
    "  * Files will be divided into blocks\n",
    "  * Blocks will be stored in multiple nodes\n",
    "  * There will be multiple copies of each block\n",
    "* Instead of the separate storage server, HDFS is designed to use local file system itself as part of Distributed File System. We will have multiple servers as part of HDFS.\n",
    "* In our cluster, we have worker nodes on which Datanodes are running. These Datanodes are managed by Namenode(s).\n",
    "* Data is typically stored in the form of blocks on the servers where Datanode is running. Block Size is by default 128 MB.\n",
    "* As compared to RAID in legacy systems, in Hadoop Replication takes care of data reliability.\n",
    "* By default, Hadoop creates 3 replicas, it maintains 3 copies of each block.\n",
    "* Rack awareness – In Hadoop, data is stored in rack aware fashion. It means that one block on one rack and other two blocks on another rack. This makes cluster more reliable.\n",
    "* Replication factor and rack awareness give fault-tolerance to HDFS."
   ]
  },
  {
   "cell_type": "code",
   "execution_count": null,
   "metadata": {},
   "outputs": [],
   "source": []
  }
 ],
 "metadata": {
  "kernelspec": {
   "display_name": "Python 3",
   "language": "python",
   "name": "python3"
  },
  "language_info": {
   "codemirror_mode": {
    "name": "ipython",
    "version": 3
   },
   "file_extension": ".py",
   "mimetype": "text/x-python",
   "name": "python",
   "nbconvert_exporter": "python",
   "pygments_lexer": "ipython3",
   "version": "3.7.9"
  }
 },
 "nbformat": 4,
 "nbformat_minor": 4
}

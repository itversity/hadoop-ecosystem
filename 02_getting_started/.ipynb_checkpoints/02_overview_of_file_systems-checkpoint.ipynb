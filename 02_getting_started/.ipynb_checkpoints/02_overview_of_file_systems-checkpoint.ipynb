{
 "cells": [
  {
   "cell_type": "markdown",
   "metadata": {},
   "source": [
    "## Overview of File Systems\n",
    "\n",
    "Let us get an overview of popular file systems we typically see in Big Data or Data Engineering projects.\n",
    "\n",
    "* It all started with Hadoop and HDFS, however as the industry started embracing Spark and Cloud the preferences related to File Systems have changed significantly.\n",
    "* Here are the popular file systems we hear in Big Data or Data Engineering world.\n",
    "  * HDFS or Hadoop Distributed File System\n",
    "  * AWS s3\n",
    "  * Google Cloud Storage\n",
    "  * Azure Blob or ADLS\n",
    "  * Open source s3 or Minio\n",
    "* File Systems acts as containers for folders and files. These are also called as objects in file systems such as AWS s3, Azure Blob etc.\n",
    "* We typically store files of different file formats in the file systems. Here are some of the examples related to file formats.\n",
    "  * Parquet\n",
    "  * ORC\n",
    "  * Textfile\n",
    "  * JSON\n",
    "  * Avro\n",
    "* We will talk about file formats at a later point in time, when we get into Spark.\n",
    "* As a developer one should be familiar about how to manage files using different file systems.\n",
    "* With respect to cloud based storages such as AWS s3, Azure Blob etc - one should be familiar with authentication as well.\n",
    "* Both Hadoop and Spark are compatible with most of the popular file systems.\n",
    "* Keep in mind that, we use Textfile and Parquet more often than other file formats (especially while building Spark based solutions).\n",
    "* While storing files in file systems, we also consider compression using compatible codecs based up on the file formats that are being used. For example, files with Parquet format are typically compressed using Snappy codec."
   ]
  },
  {
   "cell_type": "code",
   "execution_count": null,
   "metadata": {},
   "outputs": [],
   "source": []
  }
 ],
 "metadata": {
  "kernelspec": {
   "display_name": "Python 3",
   "language": "python",
   "name": "python3"
  },
  "language_info": {
   "codemirror_mode": {
    "name": "ipython",
    "version": 3
   },
   "file_extension": ".py",
   "mimetype": "text/x-python",
   "name": "python",
   "nbconvert_exporter": "python",
   "pygments_lexer": "ipython3",
   "version": "3.7.9"
  }
 },
 "nbformat": 4,
 "nbformat_minor": 4
}

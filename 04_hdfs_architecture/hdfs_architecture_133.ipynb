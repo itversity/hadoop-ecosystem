{
 "cells": [
  {
   "cell_type": "markdown",
   "metadata": {},
   "source": [
    "## HDFS Architecture\n",
    "\n",
    "Let us understand HDFS Architecture. HDFS is one of the core components of Hadooop.\n",
    "* HDFS stands for Hadoop Distributed File System.\n",
    "* Hadoop cluster typically have 3 types of nodes.\n",
    "  * Gateway Nodes - where applications are typically deployed.\n",
    "  * Master Nodes - which will manage the service.\n",
    "  * Worker Nodes - which will take care of heavy lifting.\n",
    "* Here are the typical master node configurations of HDFS.\n",
    "  * Namenode and Secondary Namenode\n",
    "  * HA Configuration - Active and Passive Namenodes\n",
    "* Namenode maintains metadata of the files while Datanodes contain blocks associated with files.\n",
    "* Our lab is built using Namenode and Secondary Namenode configuration.\n",
    "* You can review by getting into management tools or Namenode UI.\n",
    "* As a developer you should be familiar with block size and replication factor. HDFS Files are distributed based up on block size and reliability is taken care using replication factor.\n",
    "* We can also get the details about HDFS properties by reviewing following files.\n",
    "  * /etc/hadoop/conf/core-site.xml\n",
    "  * /etc/hadoop/conf/hdfs-site.xml"
   ]
  },
  {
   "cell_type": "code",
   "execution_count": null,
   "metadata": {},
   "outputs": [],
   "source": []
  }
 ],
 "metadata": {
  "kernelspec": {
   "display_name": "Python 3",
   "language": "python",
   "name": "python3"
  },
  "language_info": {
   "codemirror_mode": {
    "name": "ipython",
    "version": 3
   },
   "file_extension": ".py",
   "mimetype": "text/x-python",
   "name": "python",
   "nbconvert_exporter": "python",
   "pygments_lexer": "ipython3",
   "version": "3.7.9"
  }
 },
 "nbformat": 4,
 "nbformat_minor": 4
}
